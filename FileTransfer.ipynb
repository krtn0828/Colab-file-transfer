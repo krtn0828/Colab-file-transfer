{
  "nbformat": 4,
  "nbformat_minor": 0,
  "metadata": {
    "colab": {
      "name": "FileTransfer.ipynb",
      "provenance": [],
      "collapsed_sections": [],
      "include_colab_link": true
    },
    "kernelspec": {
      "display_name": "Python 3",
      "name": "python3"
    },
    "language_info": {
      "name": "python"
    }
  },
  "cells": [
    {
      "cell_type": "markdown",
      "metadata": {
        "id": "view-in-github",
        "colab_type": "text"
      },
      "source": [
        "<a href=\"https://colab.research.google.com/github/krtn0828/Colab-file-transfer/blob/main/FileTransfer.ipynb\" target=\"_parent\"><img src=\"https://colab.research.google.com/assets/colab-badge.svg\" alt=\"Open In Colab\"/></a>"
      ]
    },
    {
      "cell_type": "code",
      "metadata": {
        "id": "THY3k2Ug92Km",
        "cellView": "form"
      },
      "source": [
        "#@title Googleドライブのマウント(Mount GoogleDrive)\n",
        "from google.colab import drive\n",
        "drive.mount('/content/drive')"
      ],
      "execution_count": null,
      "outputs": []
    },
    {
      "cell_type": "code",
      "metadata": {
        "id": "ov1Ij5oXc8tq",
        "cellView": "form"
      },
      "source": [
        "#@title 必要な依存関係のインストール (install dependent)\n",
        "!apt-get update && apt-get install pv git unzip tar wget curl gzip p7zip bzip2 unrar\n"
      ],
      "execution_count": null,
      "outputs": []
    },
    {
      "cell_type": "code",
      "metadata": {
        "id": "FJxxumMio24y",
        "cellView": "form"
      },
      "source": [
        "#@title ダウンロードするファイルの選択(Download Files to Google Drive)\n",
        "url = \"\" #@param {type:\"string\"}\n",
        "dst = \"/content/drive/MyDrive/\" #@param {type:\"string\"}\n",
        "%cd $dst\n",
        "!wget $url"
      ],
      "execution_count": null,
      "outputs": []
    },
    {
      "cell_type": "code",
      "metadata": {
        "id": "gX4umX_Npu9X",
        "cellView": "form"
      },
      "source": [
        "#@title 解凍ツール(Extllaction tool)\n",
        "filename = \"\" #@param {type:\"string\"}\n",
        "dst = \"/content/drive/MyDrive/\" #@param {type:\"string\"}\n",
        "ext = \"tar.gz\" #@param [\"tar.gz\", \"tar\", \"gz\", \"zip\", \"7z\", \"tar.z\", \"bz2\", \"lzh\", \"rar\"]\n",
        "%cd $dst\n",
        "if ext == \"tar.gz\":\n",
        "!tar zxvf $filename\n",
        "elif ext == \"tar\":\n",
        "!tar xvf $filename\n",
        "elif ext == \"gz\":\n",
        "!gzip -dc $filename\n",
        "elif ext == \"zip\":\n",
        "!unzip $filename\n",
        "elif ext == \"7z\":\n",
        "!7z x $filename\n",
        "elif ext == \"tar.z\":\n",
        "!tar zxvf $filename\n",
        "elif ext == \"bz2\":\n",
        "!bzip2 -d $filename\n",
        "elif ext == \"lzh\":\n",
        "!lha e $filename\n",
        "elif ext == \"rar\":\n",
        "!unrar e $filename\n"
      ],
      "execution_count": null,
      "outputs": []
    }
  ]
}